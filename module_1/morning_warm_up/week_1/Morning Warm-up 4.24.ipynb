{
 "cells": [
  {
   "cell_type": "markdown",
   "metadata": {},
   "source": [
    "For loops and alternatives\n",
    "Given an array of integers, return the index of of the target number - try doing it with a for loop. Notice that the target number can repeat several times.\n",
    "\n",
    "Example:\n",
    "Given nums = [2, 9, 11, 15], target = 9,\n",
    "\n",
    "Because nums[1] = 9\n",
    "\n",
    "return [1].\n",
    "\n",
    "[optional I] - solve with for loops\n",
    "You have an array of integers, return indices of the two numbers such that they add to a target. Assume that each input would have exactly one solution, and you may not use the same element twice. Given nums = [2, 7, 11, 15], target = 9,\n",
    "\n",
    "Example\n",
    "Because nums[0] + nums[1] = 2 + 7 = 9, return [0, 1].\n",
    "\n",
    "[optional II] - solve the same with only one loop and a dictionary"
   ]
  },
  {
   "cell_type": "code",
   "execution_count": 2,
   "metadata": {},
   "outputs": [],
   "source": [
    "target = 9\n",
    "given_nums = [2,9,11,15]\n",
    "for num in given_nums:\n",
    "    if target == 9:\n",
    "        print "
   ]
  },
  {
   "cell_type": "code",
   "execution_count": null,
   "metadata": {},
   "outputs": [],
   "source": []
  }
 ],
 "metadata": {
  "kernelspec": {
   "display_name": "Python [conda env:root]",
   "language": "python",
   "name": "conda-root-py"
  },
  "language_info": {
   "codemirror_mode": {
    "name": "ipython",
    "version": 3
   },
   "file_extension": ".py",
   "mimetype": "text/x-python",
   "name": "python",
   "nbconvert_exporter": "python",
   "pygments_lexer": "ipython3",
   "version": "3.7.3"
  }
 },
 "nbformat": 4,
 "nbformat_minor": 2
}
