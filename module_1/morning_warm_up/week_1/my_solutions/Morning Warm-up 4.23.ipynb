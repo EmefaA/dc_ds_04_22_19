{
 "cells": [
  {
   "cell_type": "code",
   "execution_count": null,
   "metadata": {},
   "outputs": [],
   "source": [
    "Jupyter Notebook\n",
    "1_1_dictionaries.md\n",
    "4 minutes ago\n",
    "Logout\n",
    "Markdown\n",
    "File\n",
    "Edit\n",
    "View\n",
    "Language\n",
    "\n",
    "1\n",
    "### 1. Create a dictionary where each object contains a list of one float (Age) and one string (Family name) (at least 5 objects)\n",
    "2\n",
    "​\n",
    "3\n",
    "Example:\n",
    "4\n",
    "`{Charles: [23.4, \"Darwin\"], Alan: [42.5, \"Turing\"]}`\n",
    "5\n",
    "​\n",
    "6\n",
    "​\n",
    "7\n",
    "### 2. Delete one object from the dictionary\n",
    "8\n",
    "​\n",
    "9\n",
    "​\n",
    "10\n",
    "### 3. Replace the float number of one of your objects - we are changing a list entry inside a dictionary record! look at Darwin's new age\n",
    "11\n",
    "​\n",
    "12\n",
    "Example:\n",
    "13\n",
    "`{Charles: [99.73, \"Darwin\"], Alan: [42.5, \"Turing\"]}`\n",
    "14\n",
    "​\n",
    "15\n",
    "​\n",
    "16\n",
    "### 4. write a for loop that goes through all records in the dictionary, prints the family name and assigns the float numbers into one merged list (see ages)\n",
    "17\n",
    "​\n",
    "18\n",
    "`ages = [23.4, 22.9, 552.9]`\n",
    "19\n",
    "​\n",
    "20\n",
    "### 5. Download your notebbok as a .py (regular python script) save it somewhere you know\n",
    "21\n",
    "​\n",
    "22\n",
    "### 6. Go to terminal, navigate to the folder where you have saved the script and execute it through the terminal\n",
    "23\n",
    "​\n",
    "24\n",
    "`use commandds: \n",
    "25\n",
    "cd and \n",
    "26\n",
    "python your_script.py`\n",
    "27\n",
    "​\n",
    "28\n",
    "​\n",
    "29\n",
    "### [optional] Calculate with a for loop the median and mean of the ages list\n",
    "30\n",
    "​\n",
    "31\n",
    "​\n"
   ]
  },
  {
   "cell_type": "code",
   "execution_count": 27,
   "metadata": {},
   "outputs": [
    {
     "data": {
      "text/plain": [
       "{'Emefa': [40.4, 'Agodo'],\n",
       " 'Dorothy': [67.8, 'Ahli'],\n",
       " 'Godwin': [69.9, 'Agordo'],\n",
       " 'Gifty': [50.4, 'Quarcco'],\n",
       " 'Kofi': [35.7, 'Azuma']}"
      ]
     },
     "execution_count": 27,
     "metadata": {},
     "output_type": "execute_result"
    }
   ],
   "source": [
    "#Create a dictionary where each object contains a list of one float (Age) and one string (Family name) (at least 5 objects)\n",
    "# example: {Charles: [23.4, \"Darwin\"], Alan: [42.5, \"Turing\"]}\n",
    "familydict = {'Emefa': [40.4, \"Agodo\"],\n",
    "             'Dorothy': [67.8, \"Ahli\"],\n",
    "             'Godwin': [69.9, \"Agordo\"],\n",
    "             'Gifty': [50.4, \"Quarcco\"],\n",
    "             'Kofi': [35.7, \"Azuma\"]}\n",
    "familydict"
   ]
  },
  {
   "cell_type": "code",
   "execution_count": 28,
   "metadata": {},
   "outputs": [
    {
     "data": {
      "text/plain": [
       "{'Emefa': [40.4, 'Agodo'],\n",
       " 'Dorothy': [67.8, 'Ahli'],\n",
       " 'Godwin': [69.9, 'Agordo'],\n",
       " 'Gifty': [50.4, 'Quarcco']}"
      ]
     },
     "execution_count": 28,
     "metadata": {},
     "output_type": "execute_result"
    }
   ],
   "source": [
    "#Delete one object from the dictionary\n",
    "del familydict['Kofi']\n",
    "familydict"
   ]
  },
  {
   "cell_type": "code",
   "execution_count": 32,
   "metadata": {},
   "outputs": [
    {
     "data": {
      "text/plain": [
       "{'Emefa': [40.4, 'Agodo'],\n",
       " 'Dorothy': [67.8, 'Ahli'],\n",
       " 'Godwin': [69.9, 'Agordo'],\n",
       " 'Gifty': [55.3, 'Quarcco']}"
      ]
     },
     "execution_count": 32,
     "metadata": {},
     "output_type": "execute_result"
    }
   ],
   "source": [
    "#Replace the float number of one of your objects - we are changing a list entry inside a dictionary record! look at Darwin's new age\n",
    "familydict['Gifty'] = [55.3, 'Quarcco']\n",
    "familydict"
   ]
  },
  {
   "cell_type": "code",
   "execution_count": null,
   "metadata": {},
   "outputs": [],
   "source": [
    "#write a for loop that goes through all records in the dictionary, prints the family name and assigns the float numbers into one merged list (see ages)\n",
    "for name in familydict:\n",
    "    new = []\n",
    "    "
   ]
  }
 ],
 "metadata": {
  "kernelspec": {
   "display_name": "Python 3",
   "language": "python",
   "name": "python3"
  },
  "language_info": {
   "codemirror_mode": {
    "name": "ipython",
    "version": 3
   },
   "file_extension": ".py",
   "mimetype": "text/x-python",
   "name": "python",
   "nbconvert_exporter": "python",
   "pygments_lexer": "ipython3",
   "version": "3.7.3"
  }
 },
 "nbformat": 4,
 "nbformat_minor": 2
}
